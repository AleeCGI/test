{
 "cells": [
  {
   "cell_type": "code",
   "execution_count": 7,
   "metadata": {},
   "outputs": [],
   "source": [
    "#%% \n",
    "import cv2\n",
    "\n",
    "cam = cv2.VideoCapture(0)\n",
    "face_cas = cv2.CascadeClassifier(cv2.data.haarcascades+'haarcascade_frontalface_default.xml')\n",
    "eye_cas = cv2.CascadeClassifier(cv2.data.haarcascades+'haarcascade_eye.xml')\n",
    "\n",
    "bool = True\n",
    "while bool:\n",
    "    ret, frame = cam.read()\n",
    "    cv2.imshow('test',frame)\n",
    "    gray = cv2.cvtColor(frame,cv2.COLOR_BGR2GRAY)\n",
    "    faces = face_cas.detectMultiScale(gray,1.3,5)\n",
    "    for (x,y,w,h) in faces:\n",
    "        cv2.rectangle(frame,(x,y),(x+w,y+h),(255,0,0),5)\n",
    "        roi_gray = gray[x:x+w,y:y+w]\n",
    "        roi_color = frame[x:x+w,y:y+w]\n",
    "        eyes = eye_cas.detectMultiScale(roi_gray,1.3,5)\n",
    "        for (ex,ey,ew,eh) in eyes:\n",
    "            cv2.rectangle(roi_color,(ex,ey),(ex+ew,ey+eh),(255,0,0),5)\n",
    "\n",
    "    cv2.imshow('test',frame)\n",
    "    if cv2.waitKey(1) == ord('q'):\n",
    "        break\n"
   ]
  }
 ],
 "metadata": {
  "kernelspec": {
   "display_name": "Python 3",
   "language": "python",
   "name": "python3"
  },
  "language_info": {
   "codemirror_mode": {
    "name": "ipython",
    "version": 3
   },
   "file_extension": ".py",
   "mimetype": "text/x-python",
   "name": "python",
   "nbconvert_exporter": "python",
   "pygments_lexer": "ipython3",
   "version": "3.11.9"
  }
 },
 "nbformat": 4,
 "nbformat_minor": 2
}
